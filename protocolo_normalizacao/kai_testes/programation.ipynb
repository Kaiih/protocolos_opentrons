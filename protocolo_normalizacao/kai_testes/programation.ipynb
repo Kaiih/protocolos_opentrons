{
 "cells": [
  {
   "cell_type": "code",
   "execution_count": 1,
   "id": "e9878c53",
   "metadata": {},
   "outputs": [
    {
     "name": "stdout",
     "output_type": "stream",
     "text": [
      "/home/kai/.local/share/virtualenvs/opentrons-EiCNG7-U/bin/python\n"
     ]
    }
   ],
   "source": [
    "import sys\n",
    "print(sys.executable)\n"
   ]
  },
  {
   "cell_type": "code",
   "execution_count": 13,
   "id": "4b2dc468",
   "metadata": {},
   "outputs": [
    {
     "ename": "TypeError",
     "evalue": "ProtocolContext.__init__() got an unexpected keyword argument 'simulating'",
     "output_type": "error",
     "traceback": [
      "\u001b[31m---------------------------------------------------------------------------\u001b[39m",
      "\u001b[31mTypeError\u001b[39m                                 Traceback (most recent call last)",
      "\u001b[36mCell\u001b[39m\u001b[36m \u001b[39m\u001b[32mIn[13]\u001b[39m\u001b[32m, line 1\u001b[39m\n\u001b[32m----> \u001b[39m\u001b[32m1\u001b[39m \u001b[43mexec\u001b[49m\u001b[43m(\u001b[49m\u001b[38;5;28;43mopen\u001b[39;49m\u001b[43m(\u001b[49m\u001b[33;43m\"\u001b[39;49m\u001b[33;43minitialize_ot2_simulate.py\u001b[39;49m\u001b[33;43m\"\u001b[39;49m\u001b[43m)\u001b[49m\u001b[43m.\u001b[49m\u001b[43mread\u001b[49m\u001b[43m(\u001b[49m\u001b[43m)\u001b[49m\u001b[43m)\u001b[49m\n",
      "\u001b[36mFile \u001b[39m\u001b[32m<string>:1\u001b[39m\n",
      "\u001b[36mFile \u001b[39m\u001b[32m~/Biotrop/opentrons/scripts/tcc/custom_OT2_functions_simulate.py:15\u001b[39m\n\u001b[32m      6\u001b[39m \u001b[38;5;28;01mfrom\u001b[39;00m\u001b[38;5;250m \u001b[39m\u001b[34;01mopentrons\u001b[39;00m\u001b[34;01m.\u001b[39;00m\u001b[34;01mprotocol_api\u001b[39;00m\u001b[38;5;250m \u001b[39m\u001b[38;5;28;01mimport\u001b[39;00m ProtocolContext\n\u001b[32m      8\u001b[39m \u001b[38;5;66;03m################################\u001b[39;00m\n\u001b[32m      9\u001b[39m \u001b[38;5;66;03m##### INITIALIZE LIBRARIES #####\u001b[39;00m\n\u001b[32m     10\u001b[39m \u001b[38;5;66;03m################################\u001b[39;00m\n\u001b[32m   (...)\u001b[39m\u001b[32m     13\u001b[39m \u001b[38;5;66;03m# DO NOT CHANGE UNLESS THE ROBOT SOFTWARE IS UPDATED!\u001b[39;00m\n\u001b[32m     14\u001b[39m \u001b[38;5;66;03m#protocol = opentrons.execute.get_protocol_api('2.7')\u001b[39;00m\n\u001b[32m---> \u001b[39m\u001b[32m15\u001b[39m protocol = \u001b[43mProtocolContext\u001b[49m\u001b[43m(\u001b[49m\u001b[43msimulating\u001b[49m\u001b[43m=\u001b[49m\u001b[38;5;28;43;01mTrue\u001b[39;49;00m\u001b[43m)\u001b[49m\n\u001b[32m     16\u001b[39m metadata = {\u001b[33m'\u001b[39m\u001b[33mapiLevel\u001b[39m\u001b[33m'\u001b[39m: \u001b[33m'\u001b[39m\u001b[33m2.7\u001b[39m\u001b[33m'\u001b[39m}\n\u001b[32m     20\u001b[39m \u001b[38;5;66;03m##########################################################\u001b[39;00m\n\u001b[32m     21\u001b[39m \u001b[38;5;66;03m##### INITIALIZE VIAL OFFSETS FOR PIPETTE ASPIRATION #####\u001b[39;00m\n\u001b[32m     22\u001b[39m \u001b[38;5;66;03m##########################################################\u001b[39;00m\n\u001b[32m   (...)\u001b[39m\u001b[32m     27\u001b[39m \u001b[38;5;66;03m# step = Distance from smallest numbered tick mark to the reference tick mark\u001b[39;00m\n\u001b[32m     28\u001b[39m \u001b[38;5;66;03m# maxVolume = Maximum volume of the vial\u001b[39;00m\n",
      "\u001b[31mTypeError\u001b[39m: ProtocolContext.__init__() got an unexpected keyword argument 'simulating'"
     ]
    }
   ],
   "source": [
    "exec(open(\"initialize_ot2_simulate.py\").read())\n"
   ]
  },
  {
   "cell_type": "code",
   "execution_count": 14,
   "id": "8892e9a5",
   "metadata": {},
   "outputs": [
    {
     "ename": "NameError",
     "evalue": "name 'protocol' is not defined",
     "output_type": "error",
     "traceback": [
      "\u001b[31m---------------------------------------------------------------------------\u001b[39m",
      "\u001b[31mNameError\u001b[39m                                 Traceback (most recent call last)",
      "\u001b[36mCell\u001b[39m\u001b[36m \u001b[39m\u001b[32mIn[14]\u001b[39m\u001b[32m, line 1\u001b[39m\n\u001b[32m----> \u001b[39m\u001b[32m1\u001b[39m solvents = \u001b[43mprotocol\u001b[49m.load_labware(\u001b[33m'\u001b[39m\u001b[33mopentrons_6_tuberack_nest_50ml_conical\u001b[39m\u001b[33m'\u001b[39m, \u001b[32m1\u001b[39m)\n\u001b[32m      2\u001b[39m \u001b[38;5;66;03m#stocks = protocol.load_labware_from_definition(json.load(open('brautech_8_wellplate_20000ul.json')), 2)\u001b[39;00m\n\u001b[32m      3\u001b[39m \u001b[38;5;66;03m#samples = protocol.load_labware_from_definition(json.load(open('agilent_54_wellplate_2000ul.json')), 3)\u001b[39;00m\n",
      "\u001b[31mNameError\u001b[39m: name 'protocol' is not defined"
     ]
    }
   ],
   "source": [
    "solvents = protocol.load_labware('opentrons_6_tuberack_nest_50ml_conical', 1)\n",
    "#stocks = protocol.load_labware_from_definition(json.load(open('brautech_8_wellplate_20000ul.json')), 2)\n",
    "#samples = protocol.load_labware_from_definition(json.load(open('agilent_54_wellplate_2000ul.json')), 3)"
   ]
  }
 ],
 "metadata": {
  "kernelspec": {
   "display_name": "opentrons-EiCNG7-U",
   "language": "python",
   "name": "python3"
  },
  "language_info": {
   "codemirror_mode": {
    "name": "ipython",
    "version": 3
   },
   "file_extension": ".py",
   "mimetype": "text/x-python",
   "name": "python",
   "nbconvert_exporter": "python",
   "pygments_lexer": "ipython3",
   "version": "3.12.3"
  }
 },
 "nbformat": 4,
 "nbformat_minor": 5
}
